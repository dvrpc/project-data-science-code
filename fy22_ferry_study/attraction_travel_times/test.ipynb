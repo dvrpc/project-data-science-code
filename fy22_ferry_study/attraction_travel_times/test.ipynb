{
 "cells": [
  {
   "cell_type": "code",
   "execution_count": 134,
   "metadata": {},
   "outputs": [],
   "source": [
    "import googlemaps\n",
    "from datetime import datetime\n",
    "import os\n",
    "from dotenv import load_dotenv\n",
    "from pathlib import Path\n",
    "import pandas as pd\n",
    "\n",
    "load_dotenv()\n",
    "api_key = os.getenv(\"google_api\")\n",
    "gmaps = googlemaps.Client(key=api_key)\n",
    "GDRIVE_FOLDER = Path(os.getenv(\"GDRIVE_FOLDER\"))\n",
    "origins = GDRIVE_FOLDER / \"origin.csv\"\n",
    "destinations = GDRIVE_FOLDER / \"attractions.csv\"\n",
    "origin_df = pd.read_csv(origins)\n",
    "destinations_df = pd.read_csv(destinations)\n",
    "now = datetime.now()\n",
    "\n",
    "\n",
    "origin = (\n",
    "    39.946196,\n",
    "    -75.139832,\n",
    ")  # hardcoded here since my origin doesn't change, but if yours does you can tweak the function to accept origins.\n",
    "mode = \"driving\"  # accepts driving, walking, transit, cycling\n",
    "\n",
    "\n",
    "def distance_duration_iteration():\n",
    "    driving_list = []\n",
    "    transit_list = []\n",
    "    def distance_duration(destination):\n",
    "        output = gmaps.directions(\n",
    "            origin,\n",
    "            destination,\n",
    "            mode,\n",
    "            units=\"imperial\",\n",
    "            departure_time=now,\n",
    "        )\n",
    "    \n",
    "        if mode == \"driving\":\n",
    "            driving_list.append(output)\n",
    "            return driving_list\n",
    "        if mode == \"transit\":\n",
    "            transit_list.append(output)\n",
    "            return transit_list\n",
    "\n",
    "    \"\"\"loops through the destinations file and runs the distance duration function\"\"\"\n",
    "    for idx, row in destinations_df.iterrows():\n",
    "        lat = row[\"Latitude\"]\n",
    "        lon = row[\"Longitude\"]\n",
    "        destination = (lat, lon)\n",
    "        distance_duration(destination)\n",
    "        return transit_list, driving_list\n",
    "        \n",
    "\n",
    "\n",
    "def df_to_csv(df):\n",
    "    df.to_csv(GDRIVE_FOLDER / f\"{mode}_travel_times.csv\", sep=\",\")\n",
    "\n"
   ]
  },
  {
   "cell_type": "markdown",
   "metadata": {},
   "source": []
  },
  {
   "cell_type": "code",
   "execution_count": 137,
   "metadata": {},
   "outputs": [
    {
     "ename": "NameError",
     "evalue": "name 'transit_list' is not defined",
     "output_type": "error",
     "traceback": [
      "\u001b[0;31m---------------------------------------------------------------------------\u001b[0m",
      "\u001b[0;31mNameError\u001b[0m                                 Traceback (most recent call last)",
      "\u001b[1;32m/Users/markmorley/repos/project-data-science-code/fy22_ferry_study/attraction_travel_times/test.ipynb Cell 3'\u001b[0m in \u001b[0;36m<module>\u001b[0;34m\u001b[0m\n\u001b[1;32m     <a href='vscode-notebook-cell:/Users/markmorley/repos/project-data-science-code/fy22_ferry_study/attraction_travel_times/test.ipynb#ch0000006?line=33'>34</a>\u001b[0m             df \u001b[39m=\u001b[39m pd\u001b[39m.\u001b[39mconcat([list_df, df], axis\u001b[39m=\u001b[39m\u001b[39m0\u001b[39m, ignore_index\u001b[39m=\u001b[39m\u001b[39mTrue\u001b[39;00m)\n\u001b[1;32m     <a href='vscode-notebook-cell:/Users/markmorley/repos/project-data-science-code/fy22_ferry_study/attraction_travel_times/test.ipynb#ch0000006?line=34'>35</a>\u001b[0m     \u001b[39mreturn\u001b[39;00m df\n\u001b[0;32m---> <a href='vscode-notebook-cell:/Users/markmorley/repos/project-data-science-code/fy22_ferry_study/attraction_travel_times/test.ipynb#ch0000006?line=36'>37</a>\u001b[0m unpack_dicts(transit_list)\n",
      "\u001b[0;31mNameError\u001b[0m: name 'transit_list' is not defined"
     ]
    }
   ],
   "source": [
    "# distance_duration_iteration()\n",
    "\n",
    "def unpack_dicts(list_of_dicts):\n",
    "    \"\"\"function to crack into the nested dictionary structure that the api returns\"\"\"\n",
    "    labels = [\"distance\", \"duration\", \"lat\", \"lng\"]\n",
    "    df = pd.DataFrame(columns=labels)\n",
    "    if mode == \"driving\":\n",
    "        for item in driving_list:\n",
    "            destination_lat = item[0][\"legs\"][0][\"end_location\"][\"lat\"]\n",
    "            destination_lng = item[0][\"legs\"][0][\"end_location\"][\"lng\"]\n",
    "            distance = item[0][\"legs\"][0][\"distance\"][\"text\"]\n",
    "            duration = item[0][\"legs\"][0][\"duration\"][\"text\"]\n",
    "            d = {\n",
    "                \"distance\": [distance],\n",
    "                \"duration\": [duration],\n",
    "                \"lat\": [destination_lat],\n",
    "                \"lng\": [destination_lng],\n",
    "            }\n",
    "            list_df = pd.DataFrame(data=d)\n",
    "            df = pd.concat([list_df, df], axis=0, ignore_index=True)\n",
    "    if mode == \"transit\":\n",
    "        for item in transit_list:\n",
    "            destination_lat = item[0][\"legs\"][0][\"end_location\"][\"lat\"]\n",
    "            destination_lng = item[0][\"legs\"][0][\"end_location\"][\"lng\"]\n",
    "            distance = item[0][\"legs\"][0][\"distance\"][\"text\"]\n",
    "            duration = item[0][\"legs\"][0][\"duration\"][\"text\"]\n",
    "            d = {\n",
    "                \"distance\": [distance],\n",
    "                \"duration\": [duration],\n",
    "                \"lat\": [destination_lat],\n",
    "                \"lng\": [destination_lng],\n",
    "            }\n",
    "            list_df = pd.DataFrame(data=d)\n",
    "            df = pd.concat([list_df, df], axis=0, ignore_index=True)\n",
    "    return df\n",
    "    \n",
    "unpack_dicts(transit_list)"
   ]
  }
 ],
 "metadata": {
  "interpreter": {
   "hash": "cbb25de3153ce5764b4dbdcb0b29f81ebe716bfb1ab6d5ace8e497e9e57fb8d6"
  },
  "kernelspec": {
   "display_name": "Python 3.8.12 ('project_code')",
   "language": "python",
   "name": "python3"
  },
  "language_info": {
   "codemirror_mode": {
    "name": "ipython",
    "version": 3
   },
   "file_extension": ".py",
   "mimetype": "text/x-python",
   "name": "python",
   "nbconvert_exporter": "python",
   "pygments_lexer": "ipython3",
   "version": "3.8.12"
  },
  "orig_nbformat": 4
 },
 "nbformat": 4,
 "nbformat_minor": 2
}
