{
 "cells": [
  {
   "cell_type": "code",
   "execution_count": 122,
   "metadata": {},
   "outputs": [],
   "source": [
    "import pandas as pd\n",
    "import json\n",
    "list_of_dicts = [{'destination_addresses': ['95 Woodstown Rd, Swedesboro, NJ 08085, USA'], 'origin_addresses': ['211 S Christopher Columbus Blvd, Philadelphia, PA 19106, USA'], 'rows': [{'elements': [{'distance': {'text': '28.9 mi', 'value': 46501}, 'duration': {'text': '37 mins', 'value': 2248}, 'duration_in_traffic': {'text': '38 mins', 'value': 2300}, 'status': 'OK'}]}], 'status': 'OK'}, {'destination_addresses': ['164 S Broad St, Woodbury, NJ 08096, USA'], 'origin_addresses': ['211 S Christopher Columbus Blvd, Philadelphia, PA 19106, USA'], 'rows': [{'elements': [{'distance': {'text': '13.6 mi', 'value': 21861}, 'duration': {'text': '23 mins', 'value': 1354}, 'duration_in_traffic': {'text': '24 mins', 'value': 1449}, 'status': 'OK'}]}], 'status': 'OK'}, {'destination_addresses': ['5 W Mantua Ave, Wenonah, NJ 08090, USA'], 'origin_addresses': ['211 S Christopher Columbus Blvd, Philadelphia, PA 19106, USA'], 'rows': [{'elements': [{'distance': {'text': '16.9 mi', 'value': 27214}, 'duration': {'text': '25 mins', 'value': 1470}, 'duration_in_traffic': {'text': '27 mins', 'value': 1599}, 'status': 'OK'}]}], 'status': 'OK'}, {'destination_addresses': ['480 Mullica Hill Rd, Mullica Hill, NJ 08062, USA'], 'origin_addresses': ['211 S Christopher Columbus Blvd, Philadelphia, PA 19106, USA'], 'rows': [{'elements': [{'distance': {'text': '21.4 mi', 'value': 34494}, 'duration': {'text': '27 mins', 'value': 1603}, 'duration_in_traffic': {'text': '29 mins', 'value': 1720}, 'status': 'OK'}]}], 'status': 'OK'}]"
   ]
  },
  {
   "cell_type": "code",
   "execution_count": 123,
   "metadata": {},
   "outputs": [
    {
     "data": {
      "text/html": [
       "<div>\n",
       "<style scoped>\n",
       "    .dataframe tbody tr th:only-of-type {\n",
       "        vertical-align: middle;\n",
       "    }\n",
       "\n",
       "    .dataframe tbody tr th {\n",
       "        vertical-align: top;\n",
       "    }\n",
       "\n",
       "    .dataframe thead th {\n",
       "        text-align: right;\n",
       "    }\n",
       "</style>\n",
       "<table border=\"1\" class=\"dataframe\">\n",
       "  <thead>\n",
       "    <tr style=\"text-align: right;\">\n",
       "      <th></th>\n",
       "      <th>Address</th>\n",
       "      <th>distance</th>\n",
       "      <th>duration</th>\n",
       "      <th>duration_in_traffic</th>\n",
       "      <th>status</th>\n",
       "    </tr>\n",
       "  </thead>\n",
       "  <tbody>\n",
       "    <tr>\n",
       "      <th>0</th>\n",
       "      <td>\"95 Woodstown Rd, Swedesboro, NJ 08085, USA\"</td>\n",
       "      <td>28.9 mi</td>\n",
       "      <td>37 mins</td>\n",
       "      <td>38 mins</td>\n",
       "      <td>OK</td>\n",
       "    </tr>\n",
       "    <tr>\n",
       "      <th>1</th>\n",
       "      <td>\"164 S Broad St, Woodbury, NJ 08096, USA\"</td>\n",
       "      <td>13.6 mi</td>\n",
       "      <td>23 mins</td>\n",
       "      <td>24 mins</td>\n",
       "      <td>OK</td>\n",
       "    </tr>\n",
       "    <tr>\n",
       "      <th>2</th>\n",
       "      <td>\"5 W Mantua Ave, Wenonah, NJ 08090, USA\"</td>\n",
       "      <td>16.9 mi</td>\n",
       "      <td>25 mins</td>\n",
       "      <td>27 mins</td>\n",
       "      <td>OK</td>\n",
       "    </tr>\n",
       "    <tr>\n",
       "      <th>3</th>\n",
       "      <td>\"480 Mullica Hill Rd, Mullica Hill, NJ 08062, ...</td>\n",
       "      <td>21.4 mi</td>\n",
       "      <td>27 mins</td>\n",
       "      <td>29 mins</td>\n",
       "      <td>OK</td>\n",
       "    </tr>\n",
       "  </tbody>\n",
       "</table>\n",
       "</div>"
      ],
      "text/plain": [
       "                                             Address distance duration  \\\n",
       "0       \"95 Woodstown Rd, Swedesboro, NJ 08085, USA\"  28.9 mi  37 mins   \n",
       "1          \"164 S Broad St, Woodbury, NJ 08096, USA\"  13.6 mi  23 mins   \n",
       "2           \"5 W Mantua Ave, Wenonah, NJ 08090, USA\"  16.9 mi  25 mins   \n",
       "3  \"480 Mullica Hill Rd, Mullica Hill, NJ 08062, ...  21.4 mi  27 mins   \n",
       "\n",
       "  duration_in_traffic status  \n",
       "0             38 mins     OK  \n",
       "1             24 mins     OK  \n",
       "2             27 mins     OK  \n",
       "3             29 mins     OK  "
      ]
     },
     "execution_count": 123,
     "metadata": {},
     "output_type": "execute_result"
    }
   ],
   "source": [
    "def unpack_dicts(list_of_dicts):\n",
    "    \"\"\"function to crack into the nested dictionary structure that the api returns\"\"\"\n",
    "    df = pd.DataFrame()\n",
    "    df['Address'] = \"\"\n",
    "    current_index = 0\n",
    "    for dict in list_of_dicts:\n",
    "        destinations = pd.Series(json.dumps(dict[\"destination_addresses\"][0]))\n",
    "        json_object = json.dumps(dict[\"rows\"][0].get(\"elements\")[0])\n",
    "        df_dict = pd.read_json(json_object)\n",
    "        df_dict = df_dict.drop(labels=[\"value\"], axis=0)\n",
    "        df = pd.concat([df, df_dict], ignore_index=True, axis = 0)\n",
    "        df.at[current_index, \"Address\"] = destinations[0]\n",
    "        current_index += 1\n",
    "\n",
    "    return df\n",
    "\n",
    "unpack_dicts(list_of_dicts)\n"
   ]
  }
 ],
 "metadata": {
  "interpreter": {
   "hash": "cbb25de3153ce5764b4dbdcb0b29f81ebe716bfb1ab6d5ace8e497e9e57fb8d6"
  },
  "kernelspec": {
   "display_name": "Python 3.8.12 ('project_code')",
   "language": "python",
   "name": "python3"
  },
  "language_info": {
   "codemirror_mode": {
    "name": "ipython",
    "version": 3
   },
   "file_extension": ".py",
   "mimetype": "text/x-python",
   "name": "python",
   "nbconvert_exporter": "python",
   "pygments_lexer": "ipython3",
   "version": "3.8.12"
  },
  "orig_nbformat": 4
 },
 "nbformat": 4,
 "nbformat_minor": 2
}
