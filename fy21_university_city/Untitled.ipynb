{
 "cells": [
  {
   "cell_type": "code",
   "execution_count": 1,
   "metadata": {},
   "outputs": [],
   "source": [
    "import geopandas as gpd"
   ]
  },
  {
   "cell_type": "code",
   "execution_count": 2,
   "metadata": {},
   "outputs": [],
   "source": [
    "fp = \"/Volumes/GoogleDrive/Shared drives/U_City_FY_21/Data/GIS/philly_crashes.geojson\""
   ]
  },
  {
   "cell_type": "code",
   "execution_count": 3,
   "metadata": {},
   "outputs": [],
   "source": [
    "gdf = gpd.read_file(fp)"
   ]
  },
  {
   "cell_type": "code",
   "execution_count": 6,
   "metadata": {},
   "outputs": [
    {
     "name": "stdout",
     "output_type": "stream",
     "text": [
      "Index(['objectid', 'crn', 'district', 'county', 'municipality', 'police_agcy',\n",
      "       'crash_year', 'crash_month', 'day_of_week', 'time_of_day',\n",
      "       'hour_of_day', 'illumination', 'weather', 'road_condition',\n",
      "       'collision_type', 'relation_to_road', 'intersect_type', 'tcd_type',\n",
      "       'urban_rural', 'location_type', 'sch_bus_ind', 'sch_zone_ind',\n",
      "       'total_units', 'person_count', 'vehicle_count', 'automobile_count',\n",
      "       'motorcycle_count', 'bus_count', 'small_truck_count',\n",
      "       'heavy_truck_count', 'suv_count', 'van_count', 'bicycle_count',\n",
      "       'fatal_count', 'tot_inj_count', 'maj_inj_count', 'mod_inj_count',\n",
      "       'min_inj_count', 'unk_inj_deg_count', 'unk_inj_per_count',\n",
      "       'unbelted_occ_count', 'unb_death_count', 'unb_maj_inj_count',\n",
      "       'belted_death_count', 'belted_maj_inj_count', 'mcycle_death_count',\n",
      "       'mcycle_maj_inj_count', 'bicycle_death_count', 'bicycle_maj_inj_count',\n",
      "       'ped_count', 'ped_death_count', 'ped_maj_inj_count', 'comm_veh_count',\n",
      "       'max_severity_level', 'driver_count_16yr', 'driver_count_17yr',\n",
      "       'driver_count_18yr', 'driver_count_19yr', 'driver_count_20yr',\n",
      "       'driver_count_50_64yr', 'driver_count_65_74yr', 'driver_count_75plus',\n",
      "       'latitude', 'longitude', 'dec_lat', 'dec_long', 'arrival_tm',\n",
      "       'dispatch_tm', 'est_hrs_closed', 'lane_closed', 'ln_close_dir',\n",
      "       'ntfy_hiwy_maint', 'rdwy_surf_type_cd', 'spec_juris_cd', 'tcd_func_cd',\n",
      "       'tfc_detour_ind', 'work_zone_ind', 'work_zone_type', 'work_zone_loc',\n",
      "       'cons_zone_spd_lim', 'workers_pres', 'wz_close_detour', 'wz_flagger',\n",
      "       'wz_law_offcr_ind', 'wz_ln_closure', 'wz_moving', 'wz_other',\n",
      "       'wz_shlder_mdn', 'gdb_geomattr_data', 'geometry'],\n",
      "      dtype='object')\n"
     ]
    }
   ],
   "source": [
    "from pprint import pprint\n",
    "\n",
    "\n",
    "pprint(gdf.columns)"
   ]
  }
 ],
 "metadata": {
  "kernelspec": {
   "display_name": "Python 3",
   "language": "python",
   "name": "python3"
  },
  "language_info": {
   "codemirror_mode": {
    "name": "ipython",
    "version": 3
   },
   "file_extension": ".py",
   "mimetype": "text/x-python",
   "name": "python",
   "nbconvert_exporter": "python",
   "pygments_lexer": "ipython3",
   "version": "3.8.6"
  }
 },
 "nbformat": 4,
 "nbformat_minor": 4
}
