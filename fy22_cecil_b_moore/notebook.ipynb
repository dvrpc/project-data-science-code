{
 "cells": [
  {
   "cell_type": "code",
   "execution_count": 92,
   "metadata": {},
   "outputs": [
    {
     "name": "stdout",
     "output_type": "stream",
     "text": [
      "https://api.census.gov/data/2019/acs/acs5/?get=B02001_001E,B02001_002E,B02001_003E,B02001_004E,B02001_005E,B02001_006E,B02001_007E,B02001_008E&for=zip%20code%20tabulation%20area:19121&in=state:42&key=09444a175e2a503758ee058f2e705405097dd4cd\n"
     ]
    },
    {
     "data": {
      "text/html": [
       "<div>\n",
       "<style scoped>\n",
       "    .dataframe tbody tr th:only-of-type {\n",
       "        vertical-align: middle;\n",
       "    }\n",
       "\n",
       "    .dataframe tbody tr th {\n",
       "        vertical-align: top;\n",
       "    }\n",
       "\n",
       "    .dataframe thead th {\n",
       "        text-align: right;\n",
       "    }\n",
       "</style>\n",
       "<table border=\"1\" class=\"dataframe\">\n",
       "  <thead>\n",
       "    <tr style=\"text-align: right;\">\n",
       "      <th></th>\n",
       "      <th>Estimate!!Total:</th>\n",
       "      <th>White alone</th>\n",
       "      <th>Black or African American alone</th>\n",
       "      <th>American Indian and Alaska Native alone</th>\n",
       "      <th>Asian alone</th>\n",
       "      <th>Native Hawaiian and Other Pacific Islander alone</th>\n",
       "      <th>Some other race alone</th>\n",
       "      <th>Two or more races:</th>\n",
       "      <th>state</th>\n",
       "      <th>zip code tabulation area</th>\n",
       "    </tr>\n",
       "  </thead>\n",
       "  <tbody>\n",
       "    <tr>\n",
       "      <th>1</th>\n",
       "      <td>32385</td>\n",
       "      <td>5236</td>\n",
       "      <td>24231</td>\n",
       "      <td>217</td>\n",
       "      <td>1373</td>\n",
       "      <td>69</td>\n",
       "      <td>628</td>\n",
       "      <td>631</td>\n",
       "      <td>42</td>\n",
       "      <td>19121</td>\n",
       "    </tr>\n",
       "  </tbody>\n",
       "</table>\n",
       "</div>"
      ],
      "text/plain": [
       "0 Estimate!!Total: White alone Black or African American alone  \\\n",
       "1            32385        5236                           24231   \n",
       "\n",
       "0 American Indian and Alaska Native alone Asian alone  \\\n",
       "1                                     217        1373   \n",
       "\n",
       "0 Native Hawaiian and Other Pacific Islander alone Some other race alone  \\\n",
       "1                                               69                   628   \n",
       "\n",
       "0 Two or more races: state zip code tabulation area  \n",
       "1                631    42                    19121  "
      ]
     },
     "execution_count": 92,
     "metadata": {},
     "output_type": "execute_result"
    }
   ],
   "source": [
    "##script to pull down census data for target zip codes and clean up\n",
    "import pandas as pd\n",
    "import os\n",
    "from dotenv import load_dotenv\n",
    "load_dotenv()\n",
    "\n",
    "api_key = os.getenv(\"CENSUS_KEY\")  # put census key from census api in env file\n",
    "trait = \"B02001_001E,B02001_002E,B02001_003E,B02001_004E,B02001_005E,B02001_006E,B02001_007E,B02001_008E\" #Eventually refactor into a legible dictionary for common queries\n",
    "zip = \"19121\"\n",
    "state = \"42\"  # PA, swap for 34 if looking at NJ\n",
    "year = \"2019\"\n",
    "\n",
    "trait_list = list(trait.split(\",\"))\n",
    "url = f\"https://api.census.gov/data/{year}/acs/acs5/?get={trait}&for=zip%20code%20tabulation%20area:{zip}&in=state:{state}&key={api_key}\"\n",
    "print(url)\n",
    "df = pd.read_json(url)\n",
    "new_header = df.iloc[0]  # grab the first row for the header\n",
    "df = df[1:]  # take the data less the header row\n",
    "df.columns = new_header  # set the header row as the df header\n",
    "var_lookup = pd.read_json(\n",
    "    \"https://api.census.gov/data/2019/acs/acs5/variables.json\"\n",
    ")  # lookup table to make headers legible by referencing data dictionary\n",
    "var_lookup.columns = [\"code\"]\n",
    "new_column_list=[]\n",
    "for item in trait_list:\n",
    "    if item in var_lookup.code:\n",
    "        raw_col = var_lookup.code[item].get('label')\n",
    "        clean_col = raw_col.replace(\"Estimate!!Total:!!\", \"\")\n",
    "        df.rename(columns= {item : clean_col}, inplace=True)\n",
    "df.head(20)\n",
    "\n"
   ]
  }
 ],
 "metadata": {
  "interpreter": {
   "hash": "31f2aee4e71d21fbe5cf8b01ff0e069b9275f58929596ceb00d14d90e3e16cd6"
  },
  "kernelspec": {
   "display_name": "Python 3.8.9 64-bit",
   "language": "python",
   "name": "python3"
  },
  "language_info": {
   "codemirror_mode": {
    "name": "ipython",
    "version": 3
   },
   "file_extension": ".py",
   "mimetype": "text/x-python",
   "name": "python",
   "nbconvert_exporter": "python",
   "pygments_lexer": "ipython3",
   "version": "3.8.12"
  },
  "orig_nbformat": 4
 },
 "nbformat": 4,
 "nbformat_minor": 2
}
